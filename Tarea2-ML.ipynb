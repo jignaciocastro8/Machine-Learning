{
 "cells": [
  {
   "cell_type": "code",
   "execution_count": 27,
   "metadata": {},
   "outputs": [],
   "source": [
    "import numpy as np\n",
    "import pandas as pd\n",
    "import matplotlib.pyplot as plt"
   ]
  },
  {
   "cell_type": "code",
   "execution_count": 35,
   "metadata": {},
   "outputs": [
    {
     "name": "stdout",
     "output_type": "stream",
     "text": [
      "           0\n",
      "0   2.331587\n",
      "1   2.881072\n",
      "2   0.895136\n",
      "3   1.439184\n",
      "4   2.340928\n",
      "..       ...\n",
      "95  3.097667\n",
      "96  2.066740\n",
      "97  2.122958\n",
      "98  2.888477\n",
      "99  0.489727\n",
      "\n",
      "[100 rows x 1 columns]\n"
     ]
    },
    {
     "data": {
      "image/png": "[encoded data removed]",
      "text/plain": [
       "<Figure size 432x288 with 1 Axes>"
      ]
     },
     "metadata": {
      "needs_background": "light"
     },
     "output_type": "display_data"
    }
   ],
   "source": [
    "np.random.seed(10)\n",
    "# Generac0ión de datos.\n",
    "n = 100\n",
    "phi = 0.5\n",
    "c = 1\n",
    "sigmaSqr = 1\n",
    "eps = np.random.normal(0, sigmaSqr, n)\n",
    "Y = np.empty(n)\n",
    "Y[0] = c + eps[0]\n",
    "for i in range(1, n):\n",
    "    Y[i] = c + eps[i] + phi * Y[i - 1]\n",
    "df = pd.DataFrame(Y)\n",
    "print(df)\n",
    "plt.plot(df, '*')\n",
    "plt.plot(np.ones(n) * (0.5))\n",
    "plt.show()"
   ]
  },
  {
   "cell_type": "code",
   "execution_count": null,
   "metadata": {},
   "outputs": [],
   "source": []
  },
  {
   "cell_type": "code",
   "execution_count": null,
   "metadata": {},
   "outputs": [],
   "source": []
  }
 ],
 "metadata": {
  "kernelspec": {
   "display_name": "Python 3.8.1 64-bit",
   "language": "python",
   "name": "python38164bit1a002c59d2be41b1810151f8e3fed615"
  },
  "language_info": {
   "codemirror_mode": {
    "name": "ipython",
    "version": 3
   },
   "file_extension": ".py",
   "mimetype": "text/x-python",
   "name": "python",
   "nbconvert_exporter": "python",
   "pygments_lexer": "ipython3",
   "version": "3.8.1"
  }
 },
 "nbformat": 4,
 "nbformat_minor": 4
}
