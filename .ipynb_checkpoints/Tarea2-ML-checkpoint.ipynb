{
 "cells": [
  {
   "cell_type": "code",
   "execution_count": 9,
   "metadata": {},
   "outputs": [],
   "source": [
    "import numpy as np\n",
    "from scipy import stats\n",
    "import pandas as pd\n",
    "import matplotlib.pyplot as plt\n",
    "from scipy.optimize import minimize"
   ]
  },
  {
   "cell_type": "code",
   "execution_count": 18,
   "metadata": {},
   "outputs": [
    {
     "data": {
      "image/png": "[encoded data removed]",
      "text/plain": [
       "<Figure size 432x288 with 1 Axes>"
      ]
     },
     "metadata": {
      "needs_background": "light"
     },
     "output_type": "display_data"
    },
    {
     "name": "stdout",
     "output_type": "stream",
     "text": [
      "Promedio:  2.196562892975885\n",
      "Esperanza al largo plazo:  2.0\n"
     ]
    }
   ],
   "source": [
    "# Parámetros\n",
    "np.random.seed(6)\n",
    "phi = 0.5\n",
    "c = 1\n",
    "sigmaSqr = 1\n",
    "mean = c / (1 - phi)\n",
    "std = sigmaSqr / (1 - phi**2)\n",
    "\n",
    "# Generación de datos.\n",
    "def genDatos(n = 100):\n",
    "    # Genera una muestra del modelo AR(1) de tamaño n.\n",
    "    eps = np.random.normal(0, sigmaSqr, n)\n",
    "    Y = np.empty(n)\n",
    "    Y[0] = c + eps[0]\n",
    "    for i in range(1, n):\n",
    "        Y[i] = c + phi * Y[i - 1] + eps[i]\n",
    "    return Y \n",
    "\n",
    "# Visualización de los datos.\n",
    "n = 1000\n",
    "Y = genDatos(n)\n",
    "plt.title(\"Muestra de tamaño \"  + str(n))\n",
    "plt.xlabel('Tiempo')\n",
    "plt.ylabel('Estado')\n",
    "plt.plot(Y, label='Datos')\n",
    "plt.plot(np.ones(n) * mean, '--k', label='Esperanza largo plazo')\n",
    "plt.legend(loc='lower center')\n",
    "plt.grid()\n",
    "plt.show()\n",
    "print(\"Promedio: \", np.mean(Y))\n",
    "print('Esperanza al largo plazo: ', mean)"
   ]
  },
  {
   "cell_type": "code",
   "execution_count": 11,
   "metadata": {},
   "outputs": [
    {
     "name": "stdout",
     "output_type": "stream",
     "text": [
      "    Nombres  Parám. Reales  Max. velosimilitud\n",
      "0         C            1.0            1.002671\n",
      "1       phi            0.5            0.505726\n",
      "2  sigmaSqr            1.0            1.000000\n"
     ]
    }
   ],
   "source": [
    "# Maximizar la log-verosimilitud es equivalente a minimizarla con signo menos.\n",
    "def minusLogVer(theta):\n",
    "    c = theta[0]\n",
    "    phi = theta[1]\n",
    "    sigmaSqr = theta[2]\n",
    "    return (n / 2) * np.log(2 * np.pi * sigmaSqr) + (1 / (2 * sigmaSqr)) * sum((Y[i] - c - phi*Y[i - 1])**2 \n",
    "                                                                               for i in range(1, n)) \n",
    "# Optimizamos.\n",
    "bound = ((None, None), (None, None), (1**(-10000), None))\n",
    "opti = minimize(minusLogVer, [0, 10, 1], method='SLSQP', bounds=bound)\n",
    "df = pd.DataFrame()\n",
    "df['Nombres'] = ['C', 'phi', 'sigmaSqr']\n",
    "df['Parám. Reales'] = [c, phi, sigmaSqr] \n",
    "df['Max. velosimilitud'] = [opti.x[0], opti.x[1], opti.x[2]]\n",
    "print(df)"
   ]
  },
  {
   "cell_type": "code",
   "execution_count": 12,
   "metadata": {},
   "outputs": [
    {
     "name": "stdout",
     "output_type": "stream",
     "text": [
      "    Nombres  Parám. Reales       MAP\n",
      "0         C            1.0  1.002669\n",
      "1       phi            0.5  0.505726\n",
      "2  sigmaSqr            1.0  0.985241\n"
     ]
    }
   ],
   "source": [
    "# Prior uniforme:\n",
    "c1 = -3\n",
    "c2 = 3\n",
    "phi1 = -1\n",
    "phi2 = 1\n",
    "sigmaSqr1 = 1 / 2\n",
    "sigmaSqr2 = 2\n",
    "\n",
    "# Función del prior uniforme\n",
    "def logPrior1(theta):\n",
    "    # Retorna valor proporcional -log(p(theta)). Con prior uniforme.\n",
    "    c = theta[0]\n",
    "    phi = theta[1]\n",
    "    sigmaSqr = theta[2]\n",
    "    if c1 <= c <= c2 and phi1 < phi < phi2 and sigmaSqr1 <= sigmaSqr <= sigmaSqr2:\n",
    "        return -np.log((c2 - c1) * (phi2 - phi1) * (sigmaSqr2 - sigmaSqr1))\n",
    "    else:\n",
    "        return 0\n",
    "# Negative log likelihood.\n",
    "def NLL1(theta):\n",
    "    # Negative log likelihood.\n",
    "    c = theta[0]\n",
    "    phi = theta[1]\n",
    "    sigmaSqr = theta[2]\n",
    "    return minusLogVer(theta) - logPrior1(theta)\n",
    "\n",
    "# Optimizamos.\n",
    "bound = ((c1, c2), (phi1, phi2), (sigmaSqr1, sigmaSqr2))\n",
    "opti = minimize(NLL1, [1.4, 1.5, 1.8], method='SLSQP', bounds=bound)\n",
    "df = pd.DataFrame()\n",
    "df['Nombres'] = ['C', 'phi', 'sigmaSqr']\n",
    "df['Parám. Reales'] = [c, phi, sigmaSqr] \n",
    "df['MAP'] = [opti.x[0], opti.x[1], opti.x[2]]\n",
    "print(df)\n",
    "    "
   ]
  },
  {
   "cell_type": "markdown",
   "metadata": {},
   "source": [
    "# Parte f\n",
    "Asumiremos que tenemos un valor más probable dentro de cada intervalo. Esta nueva información se traducirá en que nuestras nuevas prior serán densidades $Beta$ desplazadas al intervalo correspondiente y parámetros $\\alpha$ y $\\beta$ de forma que la esperanza de la nueva variable sea justamente el valor al cual se cree más cercano el parámetro."
   ]
  },
  {
   "cell_type": "code",
   "execution_count": 13,
   "metadata": {},
   "outputs": [
    {
     "name": "stdout",
     "output_type": "stream",
     "text": [
      "    Nombres  Parám. Reales  MAP\n",
      "0         C            1.0  1.4\n",
      "1       phi            0.5  1.0\n",
      "2  sigmaSqr            1.0  1.8\n"
     ]
    }
   ],
   "source": [
    "# Tomamos los valores reales para comparar.\n",
    "cProb = (c1 + c2) / 2\n",
    "amp0 = (cProb - c1) / (c2 - cProb)\n",
    "phiProb = phi\n",
    "amp1 = (phiProb - phi1) / (phi2 - phiProb)\n",
    "sigmaSqrProv = sigmaSqr\n",
    "amp2 = (sigmaSqrProv - sigmaSqr1) / (sigmaSqr2 - sigmaSqrProv)\n",
    "beta = 1\n",
    "\n",
    "def betaDesplazada(x, alpha, beta, a, b):\n",
    "    # Retorna densidad de Z = a + (b - a)*X evaluada en x donde X es Beta(alpha, beta)\n",
    "    delta = b - a\n",
    "    x = (x - a) / delta\n",
    "    return stats.beta.pdf(x, alpha, beta) * (1 / delta)\n",
    "\n",
    "def logPrior2(theta):\n",
    "    # Retorna valor proporcional -log(p(theta)). Con prior Beta desplazada.\n",
    "    c = theta[0]\n",
    "    amp0 = cProb\n",
    "    phi = theta[1]\n",
    "    sigmaSqr = theta[2]\n",
    "    if c1 <= c <= c2 and phi1 < phi < phi2 and sigmaSqr1 <= sigmaSqr <= sigmaSqr2:\n",
    "        dens = betaDesplazada(c, beta *  amp0, beta, c1, c2) * betaDesplazada(phi, beta *  amp1, beta, phi1, phi2) * betaDesplazada(sigmaSqr, beta *  amp2, beta, sigmaSqr1, sigmaSqr2)\n",
    "        return -np.log(dens)\n",
    "    else:\n",
    "        return 0\n",
    "    \n",
    "# Negative log likelihood.\n",
    "def NLL2(theta):\n",
    "    # Negative log likelihood.\n",
    "    c = theta[0]\n",
    "    phi = theta[1]\n",
    "    sigmaSqr = theta[2]\n",
    "    return minusLogVer(theta) - logPrior2(theta)\n",
    "\n",
    "# Optimizamos.\n",
    "bound = ((c1, c2), (phi1, phi2), (sigmaSqr1, sigmaSqr2))\n",
    "opti = minimize(NLL2, [1.4, 1.5, 1.8], method='SLSQP', bounds=bound)\n",
    "df = pd.DataFrame()\n",
    "df['Nombres'] = ['C', 'phi', 'sigmaSqr']\n",
    "df['Parám. Reales'] = [c, phi, sigmaSqr] \n",
    "df['MAP'] = [opti.x[0], opti.x[1], opti.x[2]]\n",
    "print(df)"
   ]
  },
  {
   "cell_type": "code",
   "execution_count": null,
   "metadata": {},
   "outputs": [],
   "source": []
  },
  {
   "cell_type": "code",
   "execution_count": null,
   "metadata": {},
   "outputs": [],
   "source": []
  },
  {
   "cell_type": "code",
   "execution_count": null,
   "metadata": {},
   "outputs": [],
   "source": []
  }
 ],
 "metadata": {
  "kernelspec": {
   "display_name": "Python 3.8.1 64-bit",
   "language": "python",
   "name": "python38164bit1a002c59d2be41b1810151f8e3fed615"
  },
  "language_info": {
   "codemirror_mode": {
    "name": "ipython",
    "version": 3
   },
   "file_extension": ".py",
   "mimetype": "text/x-python",
   "name": "python",
   "nbconvert_exporter": "python",
   "pygments_lexer": "ipython3",
   "version": "3.8.1"
  }
 },
 "nbformat": 4,
 "nbformat_minor": 4
}
